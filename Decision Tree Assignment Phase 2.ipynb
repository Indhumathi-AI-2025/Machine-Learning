{
 "cells": [
  {
   "cell_type": "code",
   "execution_count": 3,
   "id": "4c16af58-618a-44a2-93a4-612f93d8693c",
   "metadata": {},
   "outputs": [],
   "source": [
    "import pandas as pd\n",
    "import pickle"
   ]
  },
  {
   "cell_type": "code",
   "execution_count": 4,
   "id": "a0b06c46-6cab-493c-88ab-09d4f3dfd5fa",
   "metadata": {},
   "outputs": [
    {
     "name": "stdout",
     "output_type": "stream",
     "text": [
      "Enter Your Details\n"
     ]
    },
    {
     "name": "stdin",
     "output_type": "stream",
     "text": [
      "Enter Your R&D Spend Amount: 135000\n",
      "Enter Your Administration Spend Amount: 246780\n",
      "Enter Your Marketing Spend Amount: 237890\n",
      "Enter Your State_Florida Spend Amount: 110400\n",
      "Enter Your State_New York Spend Amount: 297000\n"
     ]
    }
   ],
   "source": [
    "print(\"Enter Your Details\")\n",
    "rd_spend = int(input(\"Enter Your R&D Spend Amount:\"))\n",
    "administration_spend = int(input(\"Enter Your Administration Spend Amount:\"))\n",
    "marketing_spend = int(input(\"Enter Your Marketing Spend Amount:\"))\n",
    "state_Florida_spend = int(input(\"Enter Your State_Florida Spend Amount:\"))\n",
    "state_NewYork_spend = int(input(\"Enter Your State_New York Spend Amount:\"))"
   ]
  },
  {
   "cell_type": "code",
   "execution_count": 5,
   "id": "3149fb70-de09-42f8-9891-b2d9bfc07b84",
   "metadata": {},
   "outputs": [],
   "source": [
    "loaded_model = pickle.load(open(\"finalized_decisiontree_model.sav\",'rb'))"
   ]
  },
  {
   "cell_type": "code",
   "execution_count": 6,
   "id": "8a6e8714-7330-4929-8d32-19e7c8959125",
   "metadata": {},
   "outputs": [
    {
     "name": "stdout",
     "output_type": "stream",
     "text": [
      "Your Profit is:  [132602.65]\n"
     ]
    },
    {
     "name": "stderr",
     "output_type": "stream",
     "text": [
      "/opt/anaconda3/lib/python3.12/site-packages/sklearn/base.py:493: UserWarning: X does not have valid feature names, but DecisionTreeRegressor was fitted with feature names\n",
      "  warnings.warn(\n"
     ]
    }
   ],
   "source": [
    "result = loaded_model.predict([[rd_spend,administration_spend,marketing_spend,state_Florida_spend,state_NewYork_spend]])\n",
    "print(\"Your Profit is: \",result )"
   ]
  },
  {
   "cell_type": "code",
   "execution_count": null,
   "id": "bfe10a2a-9c7e-4d54-b580-091d4ea25239",
   "metadata": {},
   "outputs": [],
   "source": []
  }
 ],
 "metadata": {
  "kernelspec": {
   "display_name": "Python [conda env:base] *",
   "language": "python",
   "name": "conda-base-py"
  },
  "language_info": {
   "codemirror_mode": {
    "name": "ipython",
    "version": 3
   },
   "file_extension": ".py",
   "mimetype": "text/x-python",
   "name": "python",
   "nbconvert_exporter": "python",
   "pygments_lexer": "ipython3",
   "version": "3.12.7"
  }
 },
 "nbformat": 4,
 "nbformat_minor": 5
}
