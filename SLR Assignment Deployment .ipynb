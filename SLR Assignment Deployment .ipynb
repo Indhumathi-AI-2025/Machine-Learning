{
 "cells": [
  {
   "cell_type": "code",
   "execution_count": 4,
   "id": "ecd9e91f-9a37-4f25-be43-380fe5c8fb95",
   "metadata": {},
   "outputs": [
    {
     "name": "stdin",
     "output_type": "stream",
     "text": [
      "Enter the No of Years Experience: 25\n"
     ]
    },
    {
     "name": "stdout",
     "output_type": "stream",
     "text": [
      "The Salary for the Given Years of Experience is:  [[260783.92349604]]\n"
     ]
    },
    {
     "name": "stderr",
     "output_type": "stream",
     "text": [
      "/opt/anaconda3/lib/python3.12/site-packages/sklearn/base.py:493: UserWarning: X does not have valid feature names, but LinearRegression was fitted with feature names\n",
      "  warnings.warn(\n"
     ]
    }
   ],
   "source": [
    "#DEPLOYMENT PHASE\n",
    "#No need to give all the lines of coding,just create a new ipython file\n",
    "#import the pickle library and use the coding of the \n",
    "#model loaded in the file\n",
    "# \n",
    "\n",
    "import pickle\n",
    "loaded_model = pickle.load(open(\"final_slr_model.sav\",'rb'))\n",
    "#result = loaded_model.predict([[15]])\n",
    "result = loaded_model.predict([[int(input(\"Enter the No of Years Experience:\"))]])\n",
    "print(\"The Salary for the Given Years of Experience is: \", result)"
   ]
  },
  {
   "cell_type": "code",
   "execution_count": 2,
   "id": "88b2e870-f35f-4ecd-a051-6b9f6e58e7bf",
   "metadata": {},
   "outputs": [
    {
     "data": {
      "text/plain": [
       "array([[260783.92349604]])"
      ]
     },
     "execution_count": 2,
     "metadata": {},
     "output_type": "execute_result"
    }
   ],
   "source": [
    "result"
   ]
  },
  {
   "cell_type": "code",
   "execution_count": null,
   "id": "e7574a32-7e96-4f5e-8f12-3edf5321d958",
   "metadata": {},
   "outputs": [],
   "source": []
  }
 ],
 "metadata": {
  "kernelspec": {
   "display_name": "Python [conda env:base] *",
   "language": "python",
   "name": "conda-base-py"
  },
  "language_info": {
   "codemirror_mode": {
    "name": "ipython",
    "version": 3
   },
   "file_extension": ".py",
   "mimetype": "text/x-python",
   "name": "python",
   "nbconvert_exporter": "python",
   "pygments_lexer": "ipython3",
   "version": "3.12.7"
  }
 },
 "nbformat": 4,
 "nbformat_minor": 5
}
