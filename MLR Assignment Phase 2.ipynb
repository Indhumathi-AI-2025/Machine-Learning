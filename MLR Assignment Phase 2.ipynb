{
 "cells": [
  {
   "cell_type": "code",
   "execution_count": 3,
   "id": "df60a7ea-7552-4c0b-8e3b-abad5231c377",
   "metadata": {},
   "outputs": [],
   "source": [
    "import pandas as pd\n",
    "import pickle"
   ]
  },
  {
   "cell_type": "code",
   "execution_count": 4,
   "id": "611ec95d-3553-4267-bff2-20786a2d5a54",
   "metadata": {},
   "outputs": [],
   "source": [
    "loaded_model = pickle.load(open(\"final_mlr_model_creation.sav\",'rb'))"
   ]
  },
  {
   "cell_type": "code",
   "execution_count": 6,
   "id": "2a910f51-e50d-460e-9ec3-de5d504719a4",
   "metadata": {},
   "outputs": [
    {
     "name": "stderr",
     "output_type": "stream",
     "text": [
      "/opt/anaconda3/lib/python3.12/site-packages/sklearn/base.py:493: UserWarning: X does not have valid feature names, but LinearRegression was fitted with feature names\n",
      "  warnings.warn(\n"
     ]
    }
   ],
   "source": [
    "result = loaded_model.predict([[125000, 50000,197800,230000,5467000]])"
   ]
  },
  {
   "cell_type": "code",
   "execution_count": 7,
   "id": "a00a3a41-dbfb-47ec-913d-d858734d767b",
   "metadata": {},
   "outputs": [
    {
     "data": {
      "text/plain": [
       "array([[1.77298484e+09]])"
      ]
     },
     "execution_count": 7,
     "metadata": {},
     "output_type": "execute_result"
    }
   ],
   "source": [
    "result"
   ]
  },
  {
   "cell_type": "code",
   "execution_count": 29,
   "id": "6cdaa7f8-0a19-497b-b400-f1a2069d0c27",
   "metadata": {},
   "outputs": [
    {
     "name": "stdout",
     "output_type": "stream",
     "text": [
      "Enter Your Details\n"
     ]
    },
    {
     "name": "stdin",
     "output_type": "stream",
     "text": [
      "Enter Your R&D Spend Amount: 125000\n",
      "Enter Your Administration Spend Amount: 50000\n",
      "Enter Your Marketing Spend Amount: 197800\n",
      "Enter Your State_Florida Spend Amount: 230000\n",
      "Enter Your State_New York Spend Amount: 5467000\n"
     ]
    }
   ],
   "source": [
    "#GETTING INPUTS from the USER\n",
    "\n",
    "print(\"Enter Your Details\")\n",
    "rd_spend = int(input(\"Enter Your R&D Spend Amount:\"))\n",
    "administration_spend = int(input(\"Enter Your Administration Spend Amount:\"))\n",
    "marketing_spend = int(input(\"Enter Your Marketing Spend Amount:\"))\n",
    "state_Florida_spend = int(input(\"Enter Your State_Florida Spend Amount:\"))\n",
    "state_NewYork_spend = int(input(\"Enter Your State_New York Spend Amount:\"))"
   ]
  },
  {
   "cell_type": "code",
   "execution_count": 30,
   "id": "7f411330-cd7e-4db5-9c27-69f17060bfaa",
   "metadata": {},
   "outputs": [
    {
     "name": "stdout",
     "output_type": "stream",
     "text": [
      "Your Profit is:  [[1.77298484e+09]]\n"
     ]
    },
    {
     "name": "stderr",
     "output_type": "stream",
     "text": [
      "/opt/anaconda3/lib/python3.12/site-packages/sklearn/base.py:493: UserWarning: X does not have valid feature names, but LinearRegression was fitted with feature names\n",
      "  warnings.warn(\n"
     ]
    }
   ],
   "source": [
    "result = loaded_model.predict([[rd_spend,administration_spend,marketing_spend,state_Florida_spend,state_NewYork_spend]])\n",
    "print(\"Your Profit is: \",result )"
   ]
  },
  {
   "cell_type": "code",
   "execution_count": null,
   "id": "06ffdee4-4de5-4766-9977-72e9e6e3c321",
   "metadata": {},
   "outputs": [],
   "source": []
  }
 ],
 "metadata": {
  "kernelspec": {
   "display_name": "Python [conda env:base] *",
   "language": "python",
   "name": "conda-base-py"
  },
  "language_info": {
   "codemirror_mode": {
    "name": "ipython",
    "version": 3
   },
   "file_extension": ".py",
   "mimetype": "text/x-python",
   "name": "python",
   "nbconvert_exporter": "python",
   "pygments_lexer": "ipython3",
   "version": "3.12.7"
  }
 },
 "nbformat": 4,
 "nbformat_minor": 5
}
